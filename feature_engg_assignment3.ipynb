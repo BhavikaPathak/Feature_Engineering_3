{
 "cells": [
  {
   "cell_type": "markdown",
   "id": "1e725425-0094-4afd-9d1e-e2827f3cb7b0",
   "metadata": {},
   "source": [
    "# ANSWER 1\n",
    "Data encoding is the process of converting categorical or textual data into numerical format, which can be more easily processed and used in data analysis and machine learning algorithms. In data science, data encoding is a crucial step for handling categorical variables, as many machine learning models require numerical inputs.\n",
    "\n",
    "Usefulness in Data Science:\n",
    "Data encoding is useful in data science for the following reasons:\n",
    "1. Machine Learning Algorithms: Many machine learning algorithms work with numerical data, and encoding categorical variables allows us to include them in the model training process.\n",
    "2. Feature Engineering: Encoding categorical features is an essential step in feature engineering, where new numerical features are created from categorical data to improve model performance.\n",
    "3. Data Preprocessing: Data encoding is a part of data preprocessing, which involves cleaning and transforming raw data into a suitable format for analysis and modeling.\n",
    "4. Data Representation: Numerical representation of data facilitates visualization and statistical analysis, making it easier to gain insights from the data."
   ]
  },
  {
   "cell_type": "markdown",
   "id": "bfd1bc49-6a3e-4b01-9be3-bb3b22cd62f7",
   "metadata": {},
   "source": [
    "# ANSWER 2\n",
    "Nominal encoding, also known as label encoding, is a technique where each unique category in a categorical variable is assigned a unique integer label. The assignment of labels does not imply any order or ranking among the categories. Nominal encoding is typically used for features where the order of categories is not meaningful."
   ]
  },
  {
   "cell_type": "code",
   "execution_count": 15,
   "id": "658d0f5a-8039-4fa3-99ec-75bfd26d10e2",
   "metadata": {},
   "outputs": [
    {
     "name": "stdout",
     "output_type": "stream",
     "text": [
      "    Car Type  Color  Color_Encoded\n",
      "0      Sedan    Red              3\n",
      "1        SUV   Blue              1\n",
      "2  Hatchback  Green              2\n",
      "3      Sedan  Black              0\n",
      "4        SUV  White              4\n"
     ]
    }
   ],
   "source": [
    "import pandas as pd\n",
    "from sklearn.preprocessing import LabelEncoder\n",
    "data = {\n",
    "    'Car Type': ['Sedan', 'SUV', 'Hatchback', 'Sedan', 'SUV'],\n",
    "    'Color': ['Red', 'Blue', 'Green', 'Black', 'White']\n",
    "}\n",
    "\n",
    "df = pd.DataFrame(data)\n",
    "\n",
    "# Apply nominal encoding to the 'Color' column\n",
    "label_encoder = LabelEncoder()\n",
    "df['Color_Encoded'] = label_encoder.fit_transform(df['Color'])\n",
    "print(df)"
   ]
  },
  {
   "cell_type": "markdown",
   "id": "7ad3bbfe-a3ad-489a-9606-b966f40daec2",
   "metadata": {},
   "source": [
    "# ANSWER 3\n",
    "Nominal encoding is preferred over one-hot encoding when the categorical variable has many unique categories, and the number of categories is significantly larger than the number of data points in the dataset. In such cases, one-hot encoding would lead to a high-dimensional and sparse representation, making the data difficult to handle and computationally expensive.\n",
    "## Example:\n",
    "Let's consider a dataset with a \"Country\" feature, where each data point represents a user and the country they are from. If the dataset contains millions of users and hundreds of unique countries, using one-hot encoding for the \"Country\" feature would create a massive number of additional columns. In this scenario, nominal encoding would be preferred as it reduces the dimensionality of the feature to a single column with integer labels."
   ]
  },
  {
   "cell_type": "markdown",
   "id": "5b5176f4-bfdb-410f-a021-0701d1a0d396",
   "metadata": {},
   "source": [
    "# ANSWER 4\n",
    "For a dataset containing categorical data with 5 unique values, I would use one-hot encoding to transform the data into a format suitable for machine learning algorithms.\n",
    "\n",
    "Explanation:\n",
    "One-hot encoding is the most appropriate technique for transforming categorical data with a small number of unique values. It works by creating binary columns for each unique category in the original feature. Each binary column represents the presence (1) or absence (0) of that category in a data point."
   ]
  },
  {
   "cell_type": "code",
   "execution_count": 16,
   "id": "7114c442-edaa-46b6-b344-b0f8575990e4",
   "metadata": {},
   "outputs": [
    {
     "name": "stdout",
     "output_type": "stream",
     "text": [
      "      Name  Letter Grade_A  Letter Grade_B  Letter Grade_C\n",
      "0    Alice               1               0               0\n",
      "1      Bob               0               1               0\n",
      "2  Charlie               0               0               1\n",
      "3    David               1               0               0\n",
      "4    Emily               0               1               0\n"
     ]
    }
   ],
   "source": [
    "data = {\n",
    "    'Name': ['Alice', 'Bob', 'Charlie', 'David', 'Emily'],\n",
    "    'Letter Grade': ['A', 'B', 'C', 'A', 'B']\n",
    "}\n",
    "\n",
    "df = pd.DataFrame(data)\n",
    "\n",
    "# Apply one-hot encoding to the 'Letter Grade' column\n",
    "one_hot_encoded = pd.get_dummies(df, columns=['Letter Grade'])\n",
    "\n",
    "print(one_hot_encoded)"
   ]
  },
  {
   "cell_type": "markdown",
   "id": "2b8ea9cc-e679-4827-8de1-de7918a69cd2",
   "metadata": {},
   "source": [
    "# ANSWER 5\n",
    "Use nominal encoding (label encoding) to transform two categorical columns in the dataset, it would result in creating one new column for each categorical feature.\n",
    "\n",
    "Explanation:\n",
    "Nominal encoding assigns a unique integer label to each unique category in the categorical feature. Since there are two categorical columns in the dataset, we will have two new columns after nominal encoding, one for each categorical feature."
   ]
  },
  {
   "cell_type": "markdown",
   "id": "c85a68de-5384-4837-b7af-7221bdbbc6d9",
   "metadata": {},
   "source": [
    "Number of Rows: 1000\n",
    "\n",
    "Number of Columns: 5\n",
    "\n",
    "Categorical Columns: 2\n",
    "\n",
    "Numerical Columns: 3\n",
    "## After applying nominal encoding, we will end up with:\n",
    "Number of Rows: 1000\n",
    "\n",
    "Number of Columns: 5 + 2 (new columns)\n",
    "\n",
    "New Categorical Columns: 2\n",
    "\n",
    "Numerical Columns: 3"
   ]
  },
  {
   "cell_type": "markdown",
   "id": "4d6d074e-804a-4d7a-be6c-1fa00d77db5d",
   "metadata": {},
   "source": [
    "# ANSWER  6\n",
    "For transforming the categorical data about different types of animals (species, habitat, and diet) into a format suitable for machine learning algorithms, I would use one-hot encoding.\n",
    "\n",
    "Justification:\n",
    "\n",
    "Categorical Variables: The features \"species,\" \"habitat,\" and \"diet\" are categorical variables. One-hot encoding is the most appropriate technique for dealing with categorical data, especially when there is no inherent ordinal relationship among the categories. It creates binary columns for each unique category, representing the presence or absence of that category in a data point.\n",
    "\n",
    "Preserving Information: One-hot encoding preserves the information about the distinct categories in a straightforward manner. Each category is represented as a separate binary feature, making the data easy to interpret.\n",
    "\n",
    "No Assumptions About Order: One-hot encoding treats each category as an independent and unordered label. This is essential when dealing with features like \"species\" or \"habitat\" where there is no inherent numerical relationship.\n",
    "\n",
    "Preventing Bias: Using nominal encoding (label encoding) could potentially introduce unintended ordinal relationships among the categories. For example, if species or habitats were encoded as integers, the model might interpret higher numerical values as indicating higher importance, which might not be valid.\n",
    "\n",
    "Compatibility with Algorithms: Many machine learning algorithms work well with one-hot encoded data. One-hot encoding helps prevent the algorithms from considering the categorical values as ordinal, ensuring better model performance."
   ]
  },
  {
   "cell_type": "code",
   "execution_count": 17,
   "id": "d69bdcf4-33c2-46a6-a166-6ea81d704cba",
   "metadata": {},
   "outputs": [
    {
     "name": "stdout",
     "output_type": "stream",
     "text": [
      "     Animal  Species_Mammal  Habitat_Grassland  Habitat_Jungle  Habitat_Ocean  \\\n",
      "0      Lion               1                  0               0              0   \n",
      "1  Elephant               1                  1               0              0   \n",
      "2   Dolphin               1                  0               0              1   \n",
      "3     Tiger               1                  0               1              0   \n",
      "4   Giraffe               1                  1               0              0   \n",
      "\n",
      "   Habitat_Savannah  Diet_Carnivore  Diet_Herbivore  \n",
      "0                 1               1               0  \n",
      "1                 0               0               1  \n",
      "2                 0               1               0  \n",
      "3                 0               1               0  \n",
      "4                 0               0               1  \n"
     ]
    }
   ],
   "source": [
    "data = {\n",
    "    'Animal': ['Lion', 'Elephant', 'Dolphin', 'Tiger', 'Giraffe'],\n",
    "    'Species': ['Mammal', 'Mammal', 'Mammal', 'Mammal', 'Mammal'],\n",
    "    'Habitat': ['Savannah', 'Grassland', 'Ocean', 'Jungle', 'Grassland'],\n",
    "    'Diet': ['Carnivore', 'Herbivore', 'Carnivore', 'Carnivore', 'Herbivore']\n",
    "}\n",
    "df = pd.DataFrame(data)\n",
    "# Apply one-hot encoding to 'Species', 'Habitat', and 'Diet' columns\n",
    "one_hot_encoded = pd.get_dummies(df, columns=['Species', 'Habitat', 'Diet'])\n",
    "print(one_hot_encoded)"
   ]
  },
  {
   "cell_type": "markdown",
   "id": "4c4860db-25b5-44c6-b5e3-2ffa714f4f67",
   "metadata": {},
   "source": [
    "# ANSWER 7"
   ]
  },
  {
   "cell_type": "code",
   "execution_count": 18,
   "id": "220189be-674c-4bbe-bb66-aea926ae705d",
   "metadata": {},
   "outputs": [
    {
     "name": "stdout",
     "output_type": "stream",
     "text": [
      "   Gender  Age Contract Type  Monthly Charges  Tenure\n",
      "0    Male   30       Monthly               50       6\n",
      "1  Female   25        Annual               60      12\n",
      "2    Male   40       Monthly               55       8\n",
      "3    Male   35       Monthly               70      10\n",
      "4  Female   28        Annual               65       5\n",
      "   Age  Monthly Charges  Tenure  Gender_Encoded  Contract_Encoded\n",
      "0   30               50       6               1                 1\n",
      "1   25               60      12               0                 0\n",
      "2   40               55       8               1                 1\n",
      "3   35               70      10               1                 1\n",
      "4   28               65       5               0                 0\n"
     ]
    }
   ],
   "source": [
    "data = {\n",
    "    'Gender': ['Male', 'Female', 'Male', 'Male', 'Female'],\n",
    "    'Age': [30, 25, 40, 35, 28],\n",
    "    'Contract Type': ['Monthly', 'Annual', 'Monthly', 'Monthly', 'Annual'],\n",
    "    'Monthly Charges': [50, 60, 55, 70, 65],\n",
    "    'Tenure': [6, 12, 8, 10, 5]\n",
    "}\n",
    "df = pd.DataFrame(data)\n",
    "print(df)\n",
    "# Apply nominal encoding to 'Gender' and 'Contract Type' columns\n",
    "label_encoder = LabelEncoder()\n",
    "df['Gender_Encoded'] = label_encoder.fit_transform(df['Gender'])\n",
    "df['Contract_Encoded'] = label_encoder.fit_transform(df['Contract Type'])\n",
    "\n",
    "# Drop the original categorical columns\n",
    "df.drop(['Gender', 'Contract Type'], axis=1, inplace=True)\n",
    "print(df)"
   ]
  },
  {
   "cell_type": "code",
   "execution_count": null,
   "id": "2188361b-39ac-442a-b1b5-579299d06aca",
   "metadata": {},
   "outputs": [],
   "source": []
  },
  {
   "cell_type": "code",
   "execution_count": null,
   "id": "5bbbab7e-64f0-4d44-b754-47dd5a8a9398",
   "metadata": {},
   "outputs": [],
   "source": []
  },
  {
   "cell_type": "code",
   "execution_count": null,
   "id": "02880d9b-6ccf-4652-89b3-0fc8f1606422",
   "metadata": {},
   "outputs": [],
   "source": []
  },
  {
   "cell_type": "code",
   "execution_count": null,
   "id": "17066c66-e4db-4f97-901b-3d3647b6c198",
   "metadata": {},
   "outputs": [],
   "source": [
    "\n"
   ]
  }
 ],
 "metadata": {
  "kernelspec": {
   "display_name": "Python 3 (ipykernel)",
   "language": "python",
   "name": "python3"
  },
  "language_info": {
   "codemirror_mode": {
    "name": "ipython",
    "version": 3
   },
   "file_extension": ".py",
   "mimetype": "text/x-python",
   "name": "python",
   "nbconvert_exporter": "python",
   "pygments_lexer": "ipython3",
   "version": "3.10.8"
  }
 },
 "nbformat": 4,
 "nbformat_minor": 5
}
